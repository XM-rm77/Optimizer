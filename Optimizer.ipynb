{
  "nbformat": 4,
  "nbformat_minor": 0,
  "metadata": {
    "colab": {
      "provenance": []
    },
    "kernelspec": {
      "name": "python3",
      "display_name": "Python 3"
    },
    "language_info": {
      "name": "python"
    }
  },
  "cells": [
    {
      "cell_type": "code",
      "execution_count": null,
      "metadata": {
        "id": "-phKzqJufCVR"
      },
      "outputs": [],
      "source": [
        "import numpy as np\n",
        "import matplotlib.pyplot as plt\n",
        "import math\n",
        "from numpy import asarray\n",
        "from numpy import exp\n",
        "from numpy.random import randn\n",
        "from numpy.random import rand\n",
        "from numpy.random import seed\n",
        "import random"
      ]
    },
    {
      "cell_type": "markdown",
      "source": [
        "**Task1**"
      ],
      "metadata": {
        "id": "2vQYbT9eWWMv"
      }
    },
    {
      "cell_type": "code",
      "source": [
        "def obj_func(X):\n",
        "  result = 1.10471 * X[0]*X[0] * X[1] + 0.04811 * X[2] * X[3] * (14 + X[1])\n",
        "  return result"
      ],
      "metadata": {
        "id": "n2ujwQAedyo4"
      },
      "execution_count": null,
      "outputs": []
    },
    {
      "cell_type": "code",
      "source": [
        "def t_prime (X):\n",
        "  result = 6000 / (math.sqrt(2) * X[0] * X[1])\n",
        "  return result"
      ],
      "metadata": {
        "id": "Xs13j8tCNoQM"
      },
      "execution_count": null,
      "outputs": []
    },
    {
      "cell_type": "code",
      "source": [
        "def t_2_prime (X):\n",
        "  result = (6000 * (14 + 0.5 * X[1]) * math.sqrt(0.25 * (X[1]*X[1] + (X[0] + X[2])*(X[0] + X[2])))) / (2 * (0.707 * X[0] * X[1] * ((X[1] * X[1] / 12) + 0.25 * (X[0] + X[2]) * (X[0] + X[2]))))\n",
        "  return result"
      ],
      "metadata": {
        "id": "ZYR7aMWjOlMl"
      },
      "execution_count": null,
      "outputs": []
    },
    {
      "cell_type": "code",
      "source": [
        "def t(X):\n",
        "  result = math.sqrt((t_prime(X)*t_prime(X) + t_2_prime(X)*t_2_prime(X)) + ((X[1] * t_prime(X) * t_2_prime(X)) / math.sqrt(0.25 * (X[1]*X[1] + (X[0] + X[2])*(X[0] + X[2])))))\n",
        "  return result"
      ],
      "metadata": {
        "id": "W8mekFzoQvNz"
      },
      "execution_count": null,
      "outputs": []
    },
    {
      "cell_type": "code",
      "source": [
        "def sigma(X):\n",
        "  result = 504000 / (X[2]*X[2] * X[3])\n",
        "  return result"
      ],
      "metadata": {
        "id": "2hpOHZ6oTsje"
      },
      "execution_count": null,
      "outputs": []
    },
    {
      "cell_type": "code",
      "source": [
        "def Pc(X):\n",
        "  result = 64746.022 * (1 - 0.0282346 * X[2]) * X[2] * X[3]*X[3] * X[3]\n",
        "  return result"
      ],
      "metadata": {
        "id": "Tfn8O7srT-Z-"
      },
      "execution_count": null,
      "outputs": []
    },
    {
      "cell_type": "code",
      "source": [
        "def g1(X):\n",
        "  result = 13600 - t(X)\n",
        "  return result\n",
        "\n",
        "def g2(X):\n",
        "  result = 30000 - sigma(X)\n",
        "  return result\n",
        "\n",
        "def g3(X):\n",
        "  result = X[3] - X[0]\n",
        "  return result\n",
        "\n",
        "def g4(X):\n",
        "  result = Pc(X) - 6000\n",
        "  return result\n"
      ],
      "metadata": {
        "id": "IdsEexemVIXt"
      },
      "execution_count": null,
      "outputs": []
    },
    {
      "cell_type": "code",
      "source": [
        "X = np.array([1.05, 3.15, 4.43, 7.87])\n",
        "print(obj_func(X))\n",
        "print(g1(X))\n",
        "print(g2(X))\n",
        "print(g3(X))\n",
        "print(g4(X))"
      ],
      "metadata": {
        "colab": {
          "base_uri": "https://localhost:8080/"
        },
        "id": "1e1Q6ngoXQYR",
        "outputId": "9d57ba79-d5bf-4d65-9a96-3bafa3d0446c"
      },
      "execution_count": null,
      "outputs": [
        {
          "output_type": "stream",
          "name": "stdout",
          "text": [
            "11.560409903271651\n",
            "-9335.460447699355\n",
            "11409.7214078158\n",
            "4.64638917\n",
            "22985909.255106594\n"
          ]
        }
      ]
    },
    {
      "cell_type": "markdown",
      "source": [
        "**Task2 RS**"
      ],
      "metadata": {
        "id": "2AeHp-ccWacZ"
      }
    },
    {
      "cell_type": "code",
      "execution_count": null,
      "metadata": {
        "ExecuteTime": {
          "end_time": "2020-10-22T23:33:25.922847Z",
          "start_time": "2020-10-22T23:33:25.909767Z"
        },
        "id": "Z3Q235cPM2bI"
      },
      "outputs": [],
      "source": [
        "def RS(func, max_iter, lower_bound, upper_bound, fargs=()):\n",
        "  points = np.random.uniform(low = lower_bound, high = upper_bound, size = (max_iter, len(lower_bound))) \n",
        "  results = np.array([func(point) for point in points])\n",
        "  best_index = np.argmin(results)\n",
        "  return points[best_index], results[best_index]"
      ]
    },
    {
      "cell_type": "code",
      "source": [
        "#parameters\n",
        "number_of_samples = 10000\n",
        "lower_bound = np.array([0.125, 0.125, 0.1, 0.1])\n",
        "upper_bound = np.array([5, 5, 10, 10])\n",
        "result = RS(obj_func, number_of_samples, lower_bound, upper_bound, fargs=()) #just getting first result of RS but this is not best answer since in those points g functions are negative\n",
        "print(result)"
      ],
      "metadata": {
        "colab": {
          "base_uri": "https://localhost:8080/"
        },
        "id": "4iTltU7mP_7R",
        "outputId": "b7e87985-4865-4f74-d170-452ee411b6e6"
      },
      "execution_count": null,
      "outputs": [
        {
          "output_type": "stream",
          "name": "stdout",
          "text": [
            "(array([0.5744016 , 0.44976559, 0.73935844, 0.10605982]), 0.21844602465070553)\n"
          ]
        }
      ]
    },
    {
      "cell_type": "markdown",
      "source": [
        "**Minimum value of obj function in feasible space**"
      ],
      "metadata": {
        "id": "fJ_wJ301yhM_"
      }
    },
    {
      "cell_type": "code",
      "source": [
        "#meeting all the given inequalities to find min of obj_func in feasible space\n",
        "def const_handling(obj_func,g1,g2,g3,g4,lower_bound,upper_bound,max_iter):\n",
        "  results = []\n",
        "  feasible_space = []\n",
        "  points = np.random.uniform(low = lower_bound, high = upper_bound, size = (max_iter, len(lower_bound)))\n",
        "  for point in points:\n",
        "    if g1(point) >=0 and g2(point) >=0 and g3(point) >=0 and g4(point) >=0:\n",
        "      results.append(obj_func(point))\n",
        "      feasible_space.append(point)\n",
        "  min = results[0]\n",
        "  for i in range(len(results)):\n",
        "    if results[i] < min:\n",
        "      min = results[i]\n",
        "      j = i\n",
        "  return(feasible_space[j], min)\n",
        "print(const_handling(obj_func,g1,g2,g3,g4,lower_bound,upper_bound,number_of_samples))"
      ],
      "metadata": {
        "colab": {
          "base_uri": "https://localhost:8080/"
        },
        "id": "cAUK0-RLmGLp",
        "outputId": "ba18cdb9-6da3-4c25-869c-cecc16ab0746"
      },
      "execution_count": null,
      "outputs": [
        {
          "output_type": "stream",
          "name": "stdout",
          "text": [
            "(array([0.41112891, 4.0294402 , 7.75842239, 0.55880708]), 4.51296386673174)\n"
          ]
        }
      ]
    },
    {
      "cell_type": "markdown",
      "source": [
        "**Task3 SA**"
      ],
      "metadata": {
        "id": "IZPp_IqHXbOx"
      }
    },
    {
      "cell_type": "code",
      "source": [
        "def SA(func, low_bound, high_bound, max_iter, step_size, temp):\n",
        "  points = np.random.uniform(low = low_bound, high = high_bound, size = (max_iter, len(low_bound)))\n",
        "  for point in points:\n",
        "    if g1(point) >=0 and g2(point) >=0 and g3(point) >=0 and g4(point) >=0:\n",
        "      x_best = point\n",
        "      y_best = func(x_best)\n",
        "      break\n",
        "  x_c = x_best\n",
        "  y_c = y_best\n",
        "  for i in range(max_iter):\n",
        "    x_prime = x_c + randn(len(low_bound)) * step_size\n",
        "    y_prime = func(x_prime)\n",
        "    if y_prime < y_c or random.uniform(0,1) < min(math.exp(-(y_prime-y_c)/(temp/float(i+1))),1):\n",
        "      x_c = x_prime\n",
        "      y_c = y_prime\n",
        "    if y_prime < y_best:\n",
        "      x_best = x_prime\n",
        "      y_best = y_prime\n",
        "  return x_best, y_best"
      ],
      "metadata": {
        "id": "hrXnnQPx6BTd"
      },
      "execution_count": null,
      "outputs": []
    },
    {
      "cell_type": "code",
      "source": [
        "print(SA(obj_func, lower_bound, upper_bound, number_of_samples, 0.1, 20))"
      ],
      "metadata": {
        "colab": {
          "base_uri": "https://localhost:8080/"
        },
        "id": "_Ji3v-XjC8D1",
        "outputId": "89d6c258-08df-400e-8b14-f7325b56c133"
      },
      "execution_count": null,
      "outputs": [
        {
          "output_type": "stream",
          "name": "stdout",
          "text": [
            "(array([1.43567873, 2.09120044, 8.23713215, 4.45813191]), 33.19008283535066)\n"
          ]
        }
      ]
    },
    {
      "cell_type": "markdown",
      "source": [
        "**Task4 evaluation**"
      ],
      "metadata": {
        "id": "oN_PXvD48JtC"
      }
    },
    {
      "cell_type": "code",
      "source": [
        "RS_results = np.array([const_handling(obj_func,g1,g2,g3,g4,lower_bound,upper_bound,number_of_samples) for i in range(22)])\n",
        "SA_results = np.array([SA(obj_func,lower_bound, upper_bound, number_of_samples, 0.1, 20) for i in range(22)])"
      ],
      "metadata": {
        "colab": {
          "base_uri": "https://localhost:8080/"
        },
        "id": "5NQo9nRK8YJY",
        "outputId": "2178da0b-1ef5-49fe-b4e9-f6482f0d51a9"
      },
      "execution_count": null,
      "outputs": [
        {
          "output_type": "stream",
          "name": "stderr",
          "text": [
            "<ipython-input-85-90b2b25addac>:1: VisibleDeprecationWarning: Creating an ndarray from ragged nested sequences (which is a list-or-tuple of lists-or-tuples-or ndarrays with different lengths or shapes) is deprecated. If you meant to do this, you must specify 'dtype=object' when creating the ndarray.\n",
            "  RS_results = np.array([const_handling(obj_func,g1,g2,g3,g4,lower_bound,upper_bound,number_of_samples) for i in range(22)])\n",
            "<ipython-input-85-90b2b25addac>:2: VisibleDeprecationWarning: Creating an ndarray from ragged nested sequences (which is a list-or-tuple of lists-or-tuples-or ndarrays with different lengths or shapes) is deprecated. If you meant to do this, you must specify 'dtype=object' when creating the ndarray.\n",
            "  SA_results = np.array([SA(obj_func,lower_bound, upper_bound, number_of_samples, 0.1, 20) for i in range(22)])\n"
          ]
        }
      ]
    },
    {
      "cell_type": "code",
      "source": [
        "Ran_Search = []\n",
        "Sim_annealing = []\n",
        "for i in range(22):\n",
        "  Ran_Search.append(RS_results[i][1])\n",
        "  Sim_annealing.append(SA_results[i][1])"
      ],
      "metadata": {
        "id": "CmTivR0SIAeg"
      },
      "execution_count": null,
      "outputs": []
    },
    {
      "cell_type": "code",
      "source": [
        "print(Ran_Search)\n",
        "print(Sim_annealing)"
      ],
      "metadata": {
        "colab": {
          "base_uri": "https://localhost:8080/"
        },
        "id": "bqFaIuV-I21E",
        "outputId": "35017155-85c1-4d82-917f-4bb342131e8c"
      },
      "execution_count": null,
      "outputs": [
        {
          "output_type": "stream",
          "name": "stdout",
          "text": [
            "[3.3627274341199946, 5.135889110181527, 5.517884452665209, 4.333907305770946, 5.264066490429249, 5.311676302340621, 5.415318188735214, 3.6580061424437353, 5.1096368702909505, 4.940269091799346, 4.8124757302802115, 5.205101785116952, 3.812564180035358, 4.620805852379796, 3.8153606925230132, 3.7269531337623647, 4.797024469638818, 3.9031732308719205, 4.160135493402769, 2.95519871939125, 4.493894388551976, 3.90844397242443]\n",
            "[-29911538.77892818, -640743.6525332007, -27854422.107292477, -587068.45288344, -591566.330462703, -610298.8777802998, -27902339.683285125, -594019.5261448193, -25901365.046002526, -647911.3888673605, -606773.24712641, -567889.0593838274, -635514.9675163543, -28512591.218329262, -27085555.454482578, -572953.9187878764, -26618485.47650021, -608287.6331458943, -555280.3751659147, -24310589.32625295, -25802558.452584416, -27193863.29957189]\n"
          ]
        }
      ]
    },
    {
      "cell_type": "code",
      "source": [
        "plt.boxplot([Ran_Search, Sim_annealing])\n",
        "plt.xticks([1,2], ['RS', 'SA'])\n",
        "plt.ylabel(\"Best Objective Value\")"
      ],
      "metadata": {
        "colab": {
          "base_uri": "https://localhost:8080/",
          "height": 293
        },
        "id": "TLDxVq__JFSZ",
        "outputId": "6b098d59-9632-416e-98c9-cc4f9e6363a1"
      },
      "execution_count": null,
      "outputs": [
        {
          "output_type": "execute_result",
          "data": {
            "text/plain": [
              "Text(0, 0.5, 'Best Objective Value')"
            ]
          },
          "metadata": {},
          "execution_count": 88
        },
        {
          "output_type": "display_data",
          "data": {
            "text/plain": [
              "<Figure size 432x288 with 1 Axes>"
            ],
            "image/png": "[encoded data removed]"
          },
          "metadata": {
            "needs_background": "light"
          }
        }
      ]
    }
  ]
}